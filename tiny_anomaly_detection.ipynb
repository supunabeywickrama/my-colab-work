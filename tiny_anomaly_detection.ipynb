{
  "nbformat": 4,
  "nbformat_minor": 0,
  "metadata": {
    "colab": {
      "provenance": [],
      "gpuType": "T4",
      "authorship_tag": "ABX9TyOkLU/FiNUHHhLY/rR4I8qU",
      "include_colab_link": true
    },
    "kernelspec": {
      "name": "python3",
      "display_name": "Python 3"
    },
    "language_info": {
      "name": "python"
    },
    "accelerator": "GPU"
  },
  "cells": [
    {
      "cell_type": "markdown",
      "metadata": {
        "id": "view-in-github",
        "colab_type": "text"
      },
      "source": [
        "<a href=\"https://colab.research.google.com/github/supunabeywickrama/my-colab-work/blob/main/tiny_anomaly_detection.ipynb\" target=\"_parent\"><img src=\"https://colab.research.google.com/assets/colab-badge.svg\" alt=\"Open In Colab\"/></a>"
      ]
    },
    {
      "cell_type": "code",
      "execution_count": 29,
      "metadata": {
        "colab": {
          "base_uri": "https://localhost:8080/"
        },
        "id": "pQzBT8Umnx4y",
        "outputId": "39552416-0a36-4d82-f71f-96235e642568"
      },
      "outputs": [
        {
          "output_type": "stream",
          "name": "stdout",
          "text": [
            "Requirement already satisfied: torch in /usr/local/lib/python3.12/dist-packages (2.8.0+cu126)\n",
            "Requirement already satisfied: torchvision in /usr/local/lib/python3.12/dist-packages (0.23.0+cu126)\n",
            "Requirement already satisfied: matplotlib in /usr/local/lib/python3.12/dist-packages (3.10.0)\n",
            "Requirement already satisfied: scikit-learn in /usr/local/lib/python3.12/dist-packages (1.6.1)\n",
            "Requirement already satisfied: filelock in /usr/local/lib/python3.12/dist-packages (from torch) (3.19.1)\n",
            "Requirement already satisfied: typing-extensions>=4.10.0 in /usr/local/lib/python3.12/dist-packages (from torch) (4.15.0)\n",
            "Requirement already satisfied: setuptools in /usr/local/lib/python3.12/dist-packages (from torch) (75.2.0)\n",
            "Requirement already satisfied: sympy>=1.13.3 in /usr/local/lib/python3.12/dist-packages (from torch) (1.13.3)\n",
            "Requirement already satisfied: networkx in /usr/local/lib/python3.12/dist-packages (from torch) (3.5)\n",
            "Requirement already satisfied: jinja2 in /usr/local/lib/python3.12/dist-packages (from torch) (3.1.6)\n",
            "Requirement already satisfied: fsspec in /usr/local/lib/python3.12/dist-packages (from torch) (2025.3.0)\n",
            "Requirement already satisfied: nvidia-cuda-nvrtc-cu12==12.6.77 in /usr/local/lib/python3.12/dist-packages (from torch) (12.6.77)\n",
            "Requirement already satisfied: nvidia-cuda-runtime-cu12==12.6.77 in /usr/local/lib/python3.12/dist-packages (from torch) (12.6.77)\n",
            "Requirement already satisfied: nvidia-cuda-cupti-cu12==12.6.80 in /usr/local/lib/python3.12/dist-packages (from torch) (12.6.80)\n",
            "Requirement already satisfied: nvidia-cudnn-cu12==9.10.2.21 in /usr/local/lib/python3.12/dist-packages (from torch) (9.10.2.21)\n",
            "Requirement already satisfied: nvidia-cublas-cu12==12.6.4.1 in /usr/local/lib/python3.12/dist-packages (from torch) (12.6.4.1)\n",
            "Requirement already satisfied: nvidia-cufft-cu12==11.3.0.4 in /usr/local/lib/python3.12/dist-packages (from torch) (11.3.0.4)\n",
            "Requirement already satisfied: nvidia-curand-cu12==10.3.7.77 in /usr/local/lib/python3.12/dist-packages (from torch) (10.3.7.77)\n",
            "Requirement already satisfied: nvidia-cusolver-cu12==11.7.1.2 in /usr/local/lib/python3.12/dist-packages (from torch) (11.7.1.2)\n",
            "Requirement already satisfied: nvidia-cusparse-cu12==12.5.4.2 in /usr/local/lib/python3.12/dist-packages (from torch) (12.5.4.2)\n",
            "Requirement already satisfied: nvidia-cusparselt-cu12==0.7.1 in /usr/local/lib/python3.12/dist-packages (from torch) (0.7.1)\n",
            "Requirement already satisfied: nvidia-nccl-cu12==2.27.3 in /usr/local/lib/python3.12/dist-packages (from torch) (2.27.3)\n",
            "Requirement already satisfied: nvidia-nvtx-cu12==12.6.77 in /usr/local/lib/python3.12/dist-packages (from torch) (12.6.77)\n",
            "Requirement already satisfied: nvidia-nvjitlink-cu12==12.6.85 in /usr/local/lib/python3.12/dist-packages (from torch) (12.6.85)\n",
            "Requirement already satisfied: nvidia-cufile-cu12==1.11.1.6 in /usr/local/lib/python3.12/dist-packages (from torch) (1.11.1.6)\n",
            "Requirement already satisfied: triton==3.4.0 in /usr/local/lib/python3.12/dist-packages (from torch) (3.4.0)\n",
            "Requirement already satisfied: numpy in /usr/local/lib/python3.12/dist-packages (from torchvision) (2.0.2)\n",
            "Requirement already satisfied: pillow!=8.3.*,>=5.3.0 in /usr/local/lib/python3.12/dist-packages (from torchvision) (11.3.0)\n",
            "Requirement already satisfied: contourpy>=1.0.1 in /usr/local/lib/python3.12/dist-packages (from matplotlib) (1.3.3)\n",
            "Requirement already satisfied: cycler>=0.10 in /usr/local/lib/python3.12/dist-packages (from matplotlib) (0.12.1)\n",
            "Requirement already satisfied: fonttools>=4.22.0 in /usr/local/lib/python3.12/dist-packages (from matplotlib) (4.60.0)\n",
            "Requirement already satisfied: kiwisolver>=1.3.1 in /usr/local/lib/python3.12/dist-packages (from matplotlib) (1.4.9)\n",
            "Requirement already satisfied: packaging>=20.0 in /usr/local/lib/python3.12/dist-packages (from matplotlib) (25.0)\n",
            "Requirement already satisfied: pyparsing>=2.3.1 in /usr/local/lib/python3.12/dist-packages (from matplotlib) (3.2.4)\n",
            "Requirement already satisfied: python-dateutil>=2.7 in /usr/local/lib/python3.12/dist-packages (from matplotlib) (2.9.0.post0)\n",
            "Requirement already satisfied: scipy>=1.6.0 in /usr/local/lib/python3.12/dist-packages (from scikit-learn) (1.16.2)\n",
            "Requirement already satisfied: joblib>=1.2.0 in /usr/local/lib/python3.12/dist-packages (from scikit-learn) (1.5.2)\n",
            "Requirement already satisfied: threadpoolctl>=3.1.0 in /usr/local/lib/python3.12/dist-packages (from scikit-learn) (3.6.0)\n",
            "Requirement already satisfied: six>=1.5 in /usr/local/lib/python3.12/dist-packages (from python-dateutil>=2.7->matplotlib) (1.17.0)\n",
            "Requirement already satisfied: mpmath<1.4,>=1.1.0 in /usr/local/lib/python3.12/dist-packages (from sympy>=1.13.3->torch) (1.3.0)\n",
            "Requirement already satisfied: MarkupSafe>=2.0 in /usr/local/lib/python3.12/dist-packages (from jinja2->torch) (3.0.2)\n",
            "Device: cuda\n"
          ]
        }
      ],
      "source": [
        "# If in Colab, uncomment next line:\n",
        "!pip install torch torchvision matplotlib scikit-learn\n",
        "\n",
        "import torch, torch.nn as nn, torch.nn.functional as F\n",
        "from torch.utils.data import Dataset, DataLoader, Subset\n",
        "from torchvision import datasets, transforms\n",
        "import numpy as np, random, matplotlib.pyplot as plt\n",
        "from sklearn.metrics import roc_curve, auc, confusion_matrix, classification_report\n",
        "import itertools, os, json\n",
        "DEVICE = \"cuda\" if torch.cuda.is_available() else \"cpu\"\n",
        "SEED=42\n",
        "random.seed(SEED); np.random.seed(SEED); torch.manual_seed(SEED); torch.cuda.manual_seed_all(SEED)\n",
        "print(\"Device:\", DEVICE)\n"
      ]
    },
    {
      "cell_type": "code",
      "source": [
        "NORMAL_LABEL = 0   # T-shirt/top\n",
        "ANOM_LABEL   = 7   # Sneaker\n",
        "\n",
        "tfm = transforms.Compose([\n",
        "    transforms.ToTensor(),          # [0,1], shape [1,28,28]\n",
        "])\n",
        "\n",
        "root = \"./data\"\n",
        "train_all = datasets.FashionMNIST(root, train=True,  download=True, transform=tfm)\n",
        "test_all  = datasets.FashionMNIST(root, train=False, download=True, transform=tfm)\n",
        "\n",
        "# Build subsets:\n",
        "train_idx = [i for i,(x,y) in enumerate(train_all) if y==NORMAL_LABEL]\n",
        "test_ok_idx = [i for i,(x,y) in enumerate(test_all) if y==NORMAL_LABEL]\n",
        "test_ng_idx = [i for i,(x,y) in enumerate(test_all) if y==ANOM_LABEL]\n",
        "\n",
        "# Keep it small/fast (tweak as you like)\n",
        "train_idx = train_idx[:5000]\n",
        "test_ok_idx = test_ok_idx[:500]\n",
        "test_ng_idx = test_ng_idx[:500]\n",
        "\n",
        "train_ds = Subset(train_all, train_idx)\n",
        "test_ok_ds = Subset(test_all, test_ok_idx)\n",
        "test_ng_ds = Subset(test_all, test_ng_idx)\n",
        "\n",
        "BATCH=128\n",
        "train_loader = DataLoader(train_ds, batch_size=BATCH, shuffle=True, num_workers=0)\n",
        "test_ok_loader = DataLoader(test_ok_ds, batch_size=1, shuffle=False)\n",
        "test_ng_loader = DataLoader(test_ng_ds, batch_size=1, shuffle=False)\n",
        "\n",
        "len(train_ds), len(test_ok_ds), len(test_ng_ds)\n"
      ],
      "metadata": {
        "colab": {
          "base_uri": "https://localhost:8080/"
        },
        "id": "krHaOPnAoQgw",
        "outputId": "abe2c80c-1a6f-446a-d426-54bece057149"
      },
      "execution_count": 30,
      "outputs": [
        {
          "output_type": "execute_result",
          "data": {
            "text/plain": [
              "(5000, 500, 500)"
            ]
          },
          "metadata": {},
          "execution_count": 30
        }
      ]
    },
    {
      "cell_type": "markdown",
      "source": [
        "# Tiny Conv Autoencoder"
      ],
      "metadata": {
        "id": "o7XyVfrspiiP"
      }
    },
    {
      "cell_type": "code",
      "source": [
        "class ConvAE(nn.Module):\n",
        "    def __init__(self):\n",
        "        super().__init__()\n",
        "        # input: 1x28x28\n",
        "        self.enc = nn.Sequential(\n",
        "            nn.Conv2d(1,16,3,2,1), nn.ReLU(),   # 16x14x14\n",
        "            nn.Conv2d(16,32,3,2,1), nn.ReLU(),  # 32x7x7\n",
        "            nn.Conv2d(32,64,3,1,1), nn.ReLU(),  # 64x7x7\n",
        "        )\n",
        "        self.dec = nn.Sequential(\n",
        "            nn.ConvTranspose2d(64,32,4,2,1), nn.ReLU(),  # 32x14x14\n",
        "            nn.ConvTranspose2d(32,16,4,2,1), nn.ReLU(),  # 16x28x28\n",
        "            nn.Conv2d(16,1,3,1,1), nn.Sigmoid()          # 1x28x28\n",
        "        )\n",
        "    def forward(self,x): return self.dec(self.enc(x))\n",
        "\n",
        "model = ConvAE().to(DEVICE)\n",
        "opt = torch.optim.Adam(model.parameters(), lr=1e-3)\n",
        "crit = nn.L1Loss()  # L1 often better than MSE for recon clarity\n"
      ],
      "metadata": {
        "id": "oj4-Z_fQojHJ"
      },
      "execution_count": 31,
      "outputs": []
    },
    {
      "cell_type": "markdown",
      "source": [
        "# Train on normal only"
      ],
      "metadata": {
        "id": "BS1wLnYNpm0Q"
      }
    },
    {
      "cell_type": "code",
      "source": [
        "EPOCHS=300\n",
        "for ep in range(1, EPOCHS+1):\n",
        "    model.train()\n",
        "    total=0\n",
        "    for x,y in train_loader:\n",
        "        x = x.to(DEVICE)\n",
        "        yhat = model(x)\n",
        "        loss = crit(yhat, x)\n",
        "        opt.zero_grad(); loss.backward(); opt.step()\n",
        "        total += loss.item()*x.size(0)\n",
        "    print(f\"Epoch {ep:02d} | Train L1: {total/len(train_ds):.4f}\")\n"
      ],
      "metadata": {
        "colab": {
          "base_uri": "https://localhost:8080/"
        },
        "id": "b5kXwubqoluS",
        "outputId": "bb37607e-266e-4822-9d01-c34068bcc713"
      },
      "execution_count": 32,
      "outputs": [
        {
          "output_type": "stream",
          "name": "stdout",
          "text": [
            "Epoch 01 | Train L1: 0.2334\n",
            "Epoch 02 | Train L1: 0.0992\n",
            "Epoch 03 | Train L1: 0.0716\n",
            "Epoch 04 | Train L1: 0.0619\n",
            "Epoch 05 | Train L1: 0.0566\n",
            "Epoch 06 | Train L1: 0.0533\n",
            "Epoch 07 | Train L1: 0.0508\n",
            "Epoch 08 | Train L1: 0.0501\n",
            "Epoch 09 | Train L1: 0.0473\n",
            "Epoch 10 | Train L1: 0.0474\n",
            "Epoch 11 | Train L1: 0.0450\n",
            "Epoch 12 | Train L1: 0.0439\n",
            "Epoch 13 | Train L1: 0.0435\n",
            "Epoch 14 | Train L1: 0.0419\n",
            "Epoch 15 | Train L1: 0.0414\n",
            "Epoch 16 | Train L1: 0.0410\n",
            "Epoch 17 | Train L1: 0.0402\n",
            "Epoch 18 | Train L1: 0.0412\n",
            "Epoch 19 | Train L1: 0.0390\n",
            "Epoch 20 | Train L1: 0.0390\n",
            "Epoch 21 | Train L1: 0.0381\n",
            "Epoch 22 | Train L1: 0.0380\n",
            "Epoch 23 | Train L1: 0.0376\n",
            "Epoch 24 | Train L1: 0.0372\n",
            "Epoch 25 | Train L1: 0.0370\n",
            "Epoch 26 | Train L1: 0.0366\n",
            "Epoch 27 | Train L1: 0.0359\n",
            "Epoch 28 | Train L1: 0.0360\n",
            "Epoch 29 | Train L1: 0.0359\n",
            "Epoch 30 | Train L1: 0.0351\n",
            "Epoch 31 | Train L1: 0.0357\n",
            "Epoch 32 | Train L1: 0.0348\n",
            "Epoch 33 | Train L1: 0.0344\n",
            "Epoch 34 | Train L1: 0.0339\n",
            "Epoch 35 | Train L1: 0.0340\n",
            "Epoch 36 | Train L1: 0.0336\n",
            "Epoch 37 | Train L1: 0.0335\n",
            "Epoch 38 | Train L1: 0.0331\n",
            "Epoch 39 | Train L1: 0.0333\n",
            "Epoch 40 | Train L1: 0.0329\n",
            "Epoch 41 | Train L1: 0.0330\n",
            "Epoch 42 | Train L1: 0.0322\n",
            "Epoch 43 | Train L1: 0.0320\n",
            "Epoch 44 | Train L1: 0.0318\n",
            "Epoch 45 | Train L1: 0.0319\n",
            "Epoch 46 | Train L1: 0.0315\n",
            "Epoch 47 | Train L1: 0.0313\n",
            "Epoch 48 | Train L1: 0.0310\n",
            "Epoch 49 | Train L1: 0.0310\n",
            "Epoch 50 | Train L1: 0.0307\n",
            "Epoch 51 | Train L1: 0.0314\n",
            "Epoch 52 | Train L1: 0.0315\n",
            "Epoch 53 | Train L1: 0.0300\n",
            "Epoch 54 | Train L1: 0.0300\n",
            "Epoch 55 | Train L1: 0.0300\n",
            "Epoch 56 | Train L1: 0.0298\n",
            "Epoch 57 | Train L1: 0.0296\n",
            "Epoch 58 | Train L1: 0.0302\n",
            "Epoch 59 | Train L1: 0.0293\n",
            "Epoch 60 | Train L1: 0.0293\n",
            "Epoch 61 | Train L1: 0.0290\n",
            "Epoch 62 | Train L1: 0.0290\n",
            "Epoch 63 | Train L1: 0.0287\n",
            "Epoch 64 | Train L1: 0.0294\n",
            "Epoch 65 | Train L1: 0.0283\n",
            "Epoch 66 | Train L1: 0.0283\n",
            "Epoch 67 | Train L1: 0.0282\n",
            "Epoch 68 | Train L1: 0.0279\n",
            "Epoch 69 | Train L1: 0.0281\n",
            "Epoch 70 | Train L1: 0.0277\n",
            "Epoch 71 | Train L1: 0.0274\n",
            "Epoch 72 | Train L1: 0.0274\n",
            "Epoch 73 | Train L1: 0.0272\n",
            "Epoch 74 | Train L1: 0.0270\n",
            "Epoch 75 | Train L1: 0.0271\n",
            "Epoch 76 | Train L1: 0.0268\n",
            "Epoch 77 | Train L1: 0.0267\n",
            "Epoch 78 | Train L1: 0.0265\n",
            "Epoch 79 | Train L1: 0.0269\n",
            "Epoch 80 | Train L1: 0.0264\n",
            "Epoch 81 | Train L1: 0.0261\n",
            "Epoch 82 | Train L1: 0.0260\n",
            "Epoch 83 | Train L1: 0.0259\n",
            "Epoch 84 | Train L1: 0.0259\n",
            "Epoch 85 | Train L1: 0.0256\n",
            "Epoch 86 | Train L1: 0.0257\n",
            "Epoch 87 | Train L1: 0.0254\n",
            "Epoch 88 | Train L1: 0.0253\n",
            "Epoch 89 | Train L1: 0.0254\n",
            "Epoch 90 | Train L1: 0.0253\n",
            "Epoch 91 | Train L1: 0.0253\n",
            "Epoch 92 | Train L1: 0.0249\n",
            "Epoch 93 | Train L1: 0.0248\n",
            "Epoch 94 | Train L1: 0.0249\n",
            "Epoch 95 | Train L1: 0.0249\n",
            "Epoch 96 | Train L1: 0.0245\n",
            "Epoch 97 | Train L1: 0.0243\n",
            "Epoch 98 | Train L1: 0.0247\n",
            "Epoch 99 | Train L1: 0.0242\n",
            "Epoch 100 | Train L1: 0.0243\n",
            "Epoch 101 | Train L1: 0.0245\n",
            "Epoch 102 | Train L1: 0.0237\n",
            "Epoch 103 | Train L1: 0.0238\n",
            "Epoch 104 | Train L1: 0.0237\n",
            "Epoch 105 | Train L1: 0.0237\n",
            "Epoch 106 | Train L1: 0.0236\n",
            "Epoch 107 | Train L1: 0.0235\n",
            "Epoch 108 | Train L1: 0.0234\n",
            "Epoch 109 | Train L1: 0.0235\n",
            "Epoch 110 | Train L1: 0.0231\n",
            "Epoch 111 | Train L1: 0.0233\n",
            "Epoch 112 | Train L1: 0.0227\n",
            "Epoch 113 | Train L1: 0.0230\n",
            "Epoch 114 | Train L1: 0.0230\n",
            "Epoch 115 | Train L1: 0.0229\n",
            "Epoch 116 | Train L1: 0.0226\n",
            "Epoch 117 | Train L1: 0.0225\n",
            "Epoch 118 | Train L1: 0.0224\n",
            "Epoch 119 | Train L1: 0.0224\n",
            "Epoch 120 | Train L1: 0.0222\n",
            "Epoch 121 | Train L1: 0.0222\n",
            "Epoch 122 | Train L1: 0.0220\n",
            "Epoch 123 | Train L1: 0.0220\n",
            "Epoch 124 | Train L1: 0.0219\n",
            "Epoch 125 | Train L1: 0.0219\n",
            "Epoch 126 | Train L1: 0.0219\n",
            "Epoch 127 | Train L1: 0.0221\n",
            "Epoch 128 | Train L1: 0.0216\n",
            "Epoch 129 | Train L1: 0.0216\n",
            "Epoch 130 | Train L1: 0.0215\n",
            "Epoch 131 | Train L1: 0.0215\n",
            "Epoch 132 | Train L1: 0.0213\n",
            "Epoch 133 | Train L1: 0.0212\n",
            "Epoch 134 | Train L1: 0.0214\n",
            "Epoch 135 | Train L1: 0.0211\n",
            "Epoch 136 | Train L1: 0.0211\n",
            "Epoch 137 | Train L1: 0.0212\n",
            "Epoch 138 | Train L1: 0.0210\n",
            "Epoch 139 | Train L1: 0.0210\n",
            "Epoch 140 | Train L1: 0.0208\n",
            "Epoch 141 | Train L1: 0.0208\n",
            "Epoch 142 | Train L1: 0.0209\n",
            "Epoch 143 | Train L1: 0.0208\n",
            "Epoch 144 | Train L1: 0.0206\n",
            "Epoch 145 | Train L1: 0.0209\n",
            "Epoch 146 | Train L1: 0.0205\n",
            "Epoch 147 | Train L1: 0.0208\n",
            "Epoch 148 | Train L1: 0.0204\n",
            "Epoch 149 | Train L1: 0.0203\n",
            "Epoch 150 | Train L1: 0.0204\n",
            "Epoch 151 | Train L1: 0.0203\n",
            "Epoch 152 | Train L1: 0.0202\n",
            "Epoch 153 | Train L1: 0.0204\n",
            "Epoch 154 | Train L1: 0.0201\n",
            "Epoch 155 | Train L1: 0.0200\n",
            "Epoch 156 | Train L1: 0.0199\n",
            "Epoch 157 | Train L1: 0.0200\n",
            "Epoch 158 | Train L1: 0.0202\n",
            "Epoch 159 | Train L1: 0.0198\n",
            "Epoch 160 | Train L1: 0.0197\n",
            "Epoch 161 | Train L1: 0.0197\n",
            "Epoch 162 | Train L1: 0.0197\n",
            "Epoch 163 | Train L1: 0.0196\n",
            "Epoch 164 | Train L1: 0.0196\n",
            "Epoch 165 | Train L1: 0.0196\n",
            "Epoch 166 | Train L1: 0.0198\n",
            "Epoch 167 | Train L1: 0.0193\n",
            "Epoch 168 | Train L1: 0.0195\n",
            "Epoch 169 | Train L1: 0.0194\n",
            "Epoch 170 | Train L1: 0.0194\n",
            "Epoch 171 | Train L1: 0.0192\n",
            "Epoch 172 | Train L1: 0.0193\n",
            "Epoch 173 | Train L1: 0.0192\n",
            "Epoch 174 | Train L1: 0.0196\n",
            "Epoch 175 | Train L1: 0.0190\n",
            "Epoch 176 | Train L1: 0.0191\n",
            "Epoch 177 | Train L1: 0.0191\n",
            "Epoch 178 | Train L1: 0.0190\n",
            "Epoch 179 | Train L1: 0.0191\n",
            "Epoch 180 | Train L1: 0.0189\n",
            "Epoch 181 | Train L1: 0.0189\n",
            "Epoch 182 | Train L1: 0.0189\n",
            "Epoch 183 | Train L1: 0.0188\n",
            "Epoch 184 | Train L1: 0.0188\n",
            "Epoch 185 | Train L1: 0.0186\n",
            "Epoch 186 | Train L1: 0.0187\n",
            "Epoch 187 | Train L1: 0.0187\n",
            "Epoch 188 | Train L1: 0.0186\n",
            "Epoch 189 | Train L1: 0.0185\n",
            "Epoch 190 | Train L1: 0.0186\n",
            "Epoch 191 | Train L1: 0.0183\n",
            "Epoch 192 | Train L1: 0.0185\n",
            "Epoch 193 | Train L1: 0.0187\n",
            "Epoch 194 | Train L1: 0.0182\n",
            "Epoch 195 | Train L1: 0.0182\n",
            "Epoch 196 | Train L1: 0.0183\n",
            "Epoch 197 | Train L1: 0.0184\n",
            "Epoch 198 | Train L1: 0.0181\n",
            "Epoch 199 | Train L1: 0.0180\n",
            "Epoch 200 | Train L1: 0.0181\n",
            "Epoch 201 | Train L1: 0.0180\n",
            "Epoch 202 | Train L1: 0.0180\n",
            "Epoch 203 | Train L1: 0.0180\n",
            "Epoch 204 | Train L1: 0.0179\n",
            "Epoch 205 | Train L1: 0.0178\n",
            "Epoch 206 | Train L1: 0.0179\n",
            "Epoch 207 | Train L1: 0.0179\n",
            "Epoch 208 | Train L1: 0.0178\n",
            "Epoch 209 | Train L1: 0.0177\n",
            "Epoch 210 | Train L1: 0.0177\n",
            "Epoch 211 | Train L1: 0.0177\n",
            "Epoch 212 | Train L1: 0.0177\n",
            "Epoch 213 | Train L1: 0.0176\n",
            "Epoch 214 | Train L1: 0.0176\n",
            "Epoch 215 | Train L1: 0.0178\n",
            "Epoch 216 | Train L1: 0.0174\n",
            "Epoch 217 | Train L1: 0.0177\n",
            "Epoch 218 | Train L1: 0.0174\n",
            "Epoch 219 | Train L1: 0.0174\n",
            "Epoch 220 | Train L1: 0.0174\n",
            "Epoch 221 | Train L1: 0.0173\n",
            "Epoch 222 | Train L1: 0.0172\n",
            "Epoch 223 | Train L1: 0.0171\n",
            "Epoch 224 | Train L1: 0.0172\n",
            "Epoch 225 | Train L1: 0.0170\n",
            "Epoch 226 | Train L1: 0.0171\n",
            "Epoch 227 | Train L1: 0.0170\n",
            "Epoch 228 | Train L1: 0.0170\n",
            "Epoch 229 | Train L1: 0.0168\n",
            "Epoch 230 | Train L1: 0.0170\n",
            "Epoch 231 | Train L1: 0.0169\n",
            "Epoch 232 | Train L1: 0.0169\n",
            "Epoch 233 | Train L1: 0.0169\n",
            "Epoch 234 | Train L1: 0.0167\n",
            "Epoch 235 | Train L1: 0.0167\n",
            "Epoch 236 | Train L1: 0.0167\n",
            "Epoch 237 | Train L1: 0.0166\n",
            "Epoch 238 | Train L1: 0.0166\n",
            "Epoch 239 | Train L1: 0.0167\n",
            "Epoch 240 | Train L1: 0.0165\n",
            "Epoch 241 | Train L1: 0.0165\n",
            "Epoch 242 | Train L1: 0.0164\n",
            "Epoch 243 | Train L1: 0.0165\n",
            "Epoch 244 | Train L1: 0.0164\n",
            "Epoch 245 | Train L1: 0.0164\n",
            "Epoch 246 | Train L1: 0.0163\n",
            "Epoch 247 | Train L1: 0.0163\n",
            "Epoch 248 | Train L1: 0.0163\n",
            "Epoch 249 | Train L1: 0.0162\n",
            "Epoch 250 | Train L1: 0.0163\n",
            "Epoch 251 | Train L1: 0.0165\n",
            "Epoch 252 | Train L1: 0.0160\n",
            "Epoch 253 | Train L1: 0.0162\n",
            "Epoch 254 | Train L1: 0.0160\n",
            "Epoch 255 | Train L1: 0.0160\n",
            "Epoch 256 | Train L1: 0.0159\n",
            "Epoch 257 | Train L1: 0.0158\n",
            "Epoch 258 | Train L1: 0.0162\n",
            "Epoch 259 | Train L1: 0.0159\n",
            "Epoch 260 | Train L1: 0.0158\n",
            "Epoch 261 | Train L1: 0.0158\n",
            "Epoch 262 | Train L1: 0.0157\n",
            "Epoch 263 | Train L1: 0.0158\n",
            "Epoch 264 | Train L1: 0.0159\n",
            "Epoch 265 | Train L1: 0.0158\n",
            "Epoch 266 | Train L1: 0.0156\n",
            "Epoch 267 | Train L1: 0.0157\n",
            "Epoch 268 | Train L1: 0.0155\n",
            "Epoch 269 | Train L1: 0.0156\n",
            "Epoch 270 | Train L1: 0.0156\n",
            "Epoch 271 | Train L1: 0.0155\n",
            "Epoch 272 | Train L1: 0.0161\n",
            "Epoch 273 | Train L1: 0.0154\n",
            "Epoch 274 | Train L1: 0.0154\n",
            "Epoch 275 | Train L1: 0.0154\n",
            "Epoch 276 | Train L1: 0.0152\n",
            "Epoch 277 | Train L1: 0.0154\n",
            "Epoch 278 | Train L1: 0.0154\n",
            "Epoch 279 | Train L1: 0.0152\n",
            "Epoch 280 | Train L1: 0.0152\n",
            "Epoch 281 | Train L1: 0.0151\n",
            "Epoch 282 | Train L1: 0.0151\n",
            "Epoch 283 | Train L1: 0.0152\n",
            "Epoch 284 | Train L1: 0.0151\n",
            "Epoch 285 | Train L1: 0.0151\n",
            "Epoch 286 | Train L1: 0.0151\n",
            "Epoch 287 | Train L1: 0.0149\n",
            "Epoch 288 | Train L1: 0.0151\n",
            "Epoch 289 | Train L1: 0.0150\n",
            "Epoch 290 | Train L1: 0.0150\n",
            "Epoch 291 | Train L1: 0.0149\n",
            "Epoch 292 | Train L1: 0.0150\n",
            "Epoch 293 | Train L1: 0.0150\n",
            "Epoch 294 | Train L1: 0.0150\n",
            "Epoch 295 | Train L1: 0.0148\n",
            "Epoch 296 | Train L1: 0.0149\n",
            "Epoch 297 | Train L1: 0.0148\n",
            "Epoch 298 | Train L1: 0.0146\n",
            "Epoch 299 | Train L1: 0.0150\n",
            "Epoch 300 | Train L1: 0.0147\n"
          ]
        }
      ]
    },
    {
      "cell_type": "markdown",
      "source": [
        "# Scoring function (reconstruction error)"
      ],
      "metadata": {
        "id": "Voj9JcU8pplI"
      }
    },
    {
      "cell_type": "code",
      "source": [
        "@torch.no_grad()\n",
        "def score_loader(loader):\n",
        "    model.eval()\n",
        "    scores = []\n",
        "    ims = []\n",
        "    recons = []\n",
        "    for x,y in loader:\n",
        "        x = x.to(DEVICE)\n",
        "        yhat = model(x)\n",
        "        # scalar anomaly score: mean absolute error\n",
        "        s = (x-yhat).abs().mean(dim=(1,2,3)).cpu().numpy()\n",
        "        scores.extend(s.tolist())\n",
        "        ims.append(x.cpu())\n",
        "        recons.append(yhat.cpu())\n",
        "    return np.array(scores), torch.cat(ims,dim=0), torch.cat(recons,dim=0)\n",
        "\n",
        "ok_scores, ok_x, ok_yhat = score_loader(test_ok_loader)\n",
        "ng_scores, ng_x, ng_yhat = score_loader(test_ng_loader)\n",
        "\n",
        "scores = np.concatenate([ok_scores, ng_scores])\n",
        "labels = np.concatenate([np.zeros_like(ok_scores), np.ones_like(ng_scores)])  # 0=normal,1=anomaly\n"
      ],
      "metadata": {
        "id": "UdB3ZfTvop3w"
      },
      "execution_count": 33,
      "outputs": []
    },
    {
      "cell_type": "markdown",
      "source": [
        "# Pick a threshold using ROC (target FPR ≈ 1%)"
      ],
      "metadata": {
        "id": "HW7YuTi7ptm5"
      }
    },
    {
      "cell_type": "code",
      "source": [
        "fpr, tpr, thr = roc_curve(labels, scores)\n",
        "roc_auc = auc(fpr, tpr)\n",
        "print(\"ROC-AUC:\", roc_auc)\n",
        "\n",
        "# choose highest threshold with FPR <= 0.01 (or fallback to best overall)\n",
        "target_fpr = 0.01\n",
        "idx = np.where(fpr <= target_fpr)[0]\n",
        "T = float(thr[idx[-1]] if len(idx) else thr[np.argmax(tpr - fpr)])\n",
        "print(\"Chosen threshold:\", T)\n",
        "\n",
        "# Quick report at that threshold\n",
        "pred = (scores >= T).astype(int)\n",
        "cm = confusion_matrix(labels, pred)\n",
        "print(cm)\n",
        "print(classification_report(labels, pred, target_names=[\"Normal\",\"Anomaly\"]))\n"
      ],
      "metadata": {
        "colab": {
          "base_uri": "https://localhost:8080/"
        },
        "id": "ew-HBHQRotIi",
        "outputId": "6f1951e2-5d23-4a05-f036-29a76a0f21db"
      },
      "execution_count": 34,
      "outputs": [
        {
          "output_type": "stream",
          "name": "stdout",
          "text": [
            "ROC-AUC: 0.71792\n",
            "Chosen threshold: 0.05156348645687103\n",
            "[[499   1]\n",
            " [500   0]]\n",
            "              precision    recall  f1-score   support\n",
            "\n",
            "      Normal       0.50      1.00      0.67       500\n",
            "     Anomaly       0.00      0.00      0.00       500\n",
            "\n",
            "    accuracy                           0.50      1000\n",
            "   macro avg       0.25      0.50      0.33      1000\n",
            "weighted avg       0.25      0.50      0.33      1000\n",
            "\n"
          ]
        }
      ]
    },
    {
      "cell_type": "markdown",
      "source": [
        "# Visualize reconstructions + heatmaps"
      ],
      "metadata": {
        "id": "aQU170cZpyNl"
      }
    },
    {
      "cell_type": "code",
      "source": [
        "def show_triplet(x, yhat, n=6, title=\"\"):\n",
        "    x = x[:n].squeeze().numpy()\n",
        "    y = yhat[:n].squeeze().numpy()\n",
        "    err = np.abs(x - y)\n",
        "    plt.figure(figsize=(9,3*n))\n",
        "    for i in range(n):\n",
        "        plt.subplot(n,3,3*i+1); plt.imshow(x[i], cmap=\"gray\"); plt.axis('off')\n",
        "        plt.subplot(n,3,3*i+2); plt.imshow(y[i], cmap=\"gray\"); plt.axis('off')\n",
        "        plt.subplot(n,3,3*i+3);\n",
        "        em = (err[i]-err[i].min())/(err[i].max()-err[i].min()+1e-8)\n",
        "        plt.imshow(em, cmap=\"inferno\"); plt.axis('off')\n",
        "    plt.suptitle(title); plt.tight_layout(); plt.show()\n",
        "\n",
        "show_triplet(ok_x, ok_yhat, n=6, title=\"Normals: Input | Recon | Error\")\n",
        "show_triplet(ng_x, ng_yhat, n=6, title=\"Anomalies: Input | Recon | Error\")\n"
      ],
      "metadata": {
        "colab": {
          "base_uri": "https://localhost:8080/",
          "height": 1000
        },
        "id": "vcT9pILZoyLZ",
        "outputId": "12d5156c-e6b4-4588-f556-a573597252d9"
      },
      "execution_count": 35,
      "outputs": [
        {
          "output_type": "display_data",
          "data": {
            "text/plain": [
              "<Figure size 900x1800 with 18 Axes>"
            ],
            "image/png": "[encoded data removed]"
          },
          "metadata": {}
        },
        {
          "output_type": "display_data",
          "data": {
            "text/plain": [
              "<Figure size 900x1800 with 18 Axes>"
            ],
            "image/png": "[encoded data removed]"
          },
          "metadata": {}
        }
      ]
    },
    {
      "cell_type": "markdown",
      "source": [
        "# Save model + **threshold**"
      ],
      "metadata": {
        "id": "-bFAPGxup36J"
      }
    },
    {
      "cell_type": "code",
      "source": [
        "os.makedirs(\"artifacts\", exist_ok=True)\n",
        "torch.save(model.state_dict(), \"artifacts/fmnist_ae.pt\")\n",
        "with open(\"artifacts/threshold.json\",\"w\") as f:\n",
        "    json.dump({\"threshold\":T, \"normal_label\": int(NORMAL_LABEL), \"anomaly_label\": int(ANOM_LABEL)}, f)\n",
        "print(\"Saved to artifacts/\")\n"
      ],
      "metadata": {
        "colab": {
          "base_uri": "https://localhost:8080/"
        },
        "id": "rd_BAc_ypBMN",
        "outputId": "6e83ab96-356e-4e3f-eec9-a0bd2ebac4b9"
      },
      "execution_count": 36,
      "outputs": [
        {
          "output_type": "stream",
          "name": "stdout",
          "text": [
            "Saved to artifacts/\n"
          ]
        }
      ]
    },
    {
      "cell_type": "markdown",
      "source": [
        "# Simple infer()  can reuse later"
      ],
      "metadata": {
        "id": "gdGe8rjLp_Wy"
      }
    },
    {
      "cell_type": "code",
      "source": [
        "@torch.no_grad()\n",
        "def infer(img_tensor_1x28x28):  # torch.float32 in [0,1], shape [1,28,28]\n",
        "    model.eval()\n",
        "    x = img_tensor_1x28x28.unsqueeze(0).to(DEVICE)  # [1,1,28,28]\n",
        "    y = model(x)\n",
        "    err_map = (x-y).abs().squeeze().cpu().numpy()\n",
        "    score = err_map.mean().item()\n",
        "    verdict = \"NG\" if score >= T else \"OK\"\n",
        "    # binary mask (optional)\n",
        "    em = (err_map - err_map.min())/(err_map.max()-err_map.min()+1e-8)\n",
        "    mask = (em > np.clip(em.mean()+2*em.std(), 0.2, 0.9)).astype(np.uint8)\n",
        "    return verdict, float(score), mask, em\n",
        "\n",
        "# quick demo on one normal and one anomaly sample\n",
        "v0, s0, m0, em0 = infer(ok_x[0])\n",
        "v1, s1, m1, em1 = infer(ng_x[0])\n",
        "print(\"Normal sample verdict:\", v0, s0)\n",
        "print(\"Anomaly sample verdict:\", v1, s1)\n"
      ],
      "metadata": {
        "colab": {
          "base_uri": "https://localhost:8080/"
        },
        "id": "m9lPju-rpDpL",
        "outputId": "8c898f3f-f695-4858-85ef-b73f3aeff867"
      },
      "execution_count": 37,
      "outputs": [
        {
          "output_type": "stream",
          "name": "stdout",
          "text": [
            "Normal sample verdict: OK 0.010778648778796196\n",
            "Anomaly sample verdict: OK 0.017679832875728607\n"
          ]
        }
      ]
    }
  ]
}