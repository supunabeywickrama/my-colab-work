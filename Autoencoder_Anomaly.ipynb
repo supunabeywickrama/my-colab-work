{
  "cells": [
    {
      "cell_type": "markdown",
      "metadata": {
        "id": "view-in-github",
        "colab_type": "text"
      },
      "source": [
        "<a href=\"https://colab.research.google.com/github/supunabeywickrama/my-colab-work/blob/main/Autoencoder_Anomaly.ipynb\" target=\"_parent\"><img src=\"https://colab.research.google.com/assets/colab-badge.svg\" alt=\"Open In Colab\"/></a>"
      ]
    },
    {
      "cell_type": "code",
      "source": [
        "!nvidia-smi -L || True\n",
        "import torch; print(\"CUDA:\", torch.cuda.is_available())\n"
      ],
      "metadata": {
        "colab": {
          "base_uri": "https://localhost:8080/"
        },
        "id": "BnJWCZvdLy3K",
        "outputId": "0873a387-1b88-428a-e45e-7cc3b613b8f4"
      },
      "id": "BnJWCZvdLy3K",
      "execution_count": 4,
      "outputs": [
        {
          "output_type": "stream",
          "name": "stdout",
          "text": [
            "GPU 0: Tesla T4 (UUID: GPU-a63d9ca3-0818-4abd-22da-e52e5619b887)\n",
            "CUDA: True\n"
          ]
        }
      ]
    },
    {
      "cell_type": "code",
      "source": [
        "!pip -q install torch torchvision matplotlib scikit-learn tqdm\n"
      ],
      "metadata": {
        "id": "5CrirPqRL0az"
      },
      "id": "5CrirPqRL0az",
      "execution_count": 5,
      "outputs": []
    },
    {
      "cell_type": "code",
      "source": [
        "import torch, torchvision as tv, torchvision.transforms as T\n",
        "from torch.utils.data import Dataset, DataLoader, Subset\n",
        "import numpy as np\n",
        "\n",
        "DEVICE = \"cuda\" if torch.cuda.is_available() else \"cpu\"\n",
        "\n",
        "# Fashion-MNIST: 60k train, 10k test, classes 0..9\n",
        "# We'll define: class 7 = \"Sneaker\" (normal); others = anomaly\n",
        "NORMAL_CLASS = 7\n",
        "\n",
        "transform = T.ToTensor()\n",
        "\n",
        "train_full = tv.datasets.FashionMNIST(root=\"/content/data\", train=True, download=True, transform=transform)\n",
        "test_full  = tv.datasets.FashionMNIST(root=\"/content/data\", train=False, download=True, transform=transform)\n",
        "\n",
        "# Build splits\n",
        "def idxs_by_class(ds, cls):\n",
        "    return [i for i,(_,y) in enumerate(ds) if y==cls]\n",
        "\n",
        "# Train = ONLY normal class\n",
        "train_idx = idxs_by_class(train_full, NORMAL_CLASS)\n",
        "# Validation/test mix: use all test data (contains normal+anomalies)\n",
        "test_idx_all = list(range(len(test_full)))\n",
        "\n",
        "train_ds = Subset(train_full, train_idx)\n",
        "test_ds  = Subset(test_full, test_idx_all)\n",
        "\n",
        "print(f\"Train normals: {len(train_ds)} | Test total: {len(test_ds)}\")\n",
        "\n",
        "train_loader = DataLoader(train_ds, batch_size=128, shuffle=True, num_workers=2, pin_memory=True)\n",
        "test_loader  = DataLoader(test_ds, batch_size=256, shuffle=False, num_workers=2, pin_memory=True)\n"
      ],
      "metadata": {
        "colab": {
          "base_uri": "https://localhost:8080/"
        },
        "id": "n-SijhZfL7wy",
        "outputId": "90ddfd93-8707-4f92-dc06-6b8892547326"
      },
      "id": "n-SijhZfL7wy",
      "execution_count": 6,
      "outputs": [
        {
          "output_type": "stream",
          "name": "stderr",
          "text": [
            "100%|██████████| 26.4M/26.4M [00:02<00:00, 12.8MB/s]\n",
            "100%|██████████| 29.5k/29.5k [00:00<00:00, 204kB/s]\n",
            "100%|██████████| 4.42M/4.42M [00:01<00:00, 3.76MB/s]\n",
            "100%|██████████| 5.15k/5.15k [00:00<00:00, 11.5MB/s]\n"
          ]
        },
        {
          "output_type": "stream",
          "name": "stdout",
          "text": [
            "Train normals: 6000 | Test total: 10000\n"
          ]
        }
      ]
    },
    {
      "cell_type": "code",
      "source": [
        "import torch.nn as nn, torch.optim as optim\n",
        "from tqdm import trange\n",
        "\n",
        "class CAE(nn.Module):\n",
        "    def __init__(self):\n",
        "        super().__init__()\n",
        "        self.enc = nn.Sequential(\n",
        "            nn.Conv2d(1, 16, 3, 2, 1), nn.ReLU(),   # 28->14\n",
        "            nn.Conv2d(16,32, 3, 2, 1), nn.ReLU(),   # 14->7\n",
        "            nn.Conv2d(32,64, 3, 2, 1), nn.ReLU(),   # 7->4\n",
        "        )\n",
        "        self.dec = nn.Sequential(\n",
        "            nn.ConvTranspose2d(64,32, 3, 2, 1, output_padding=0), nn.ReLU(), # 4->7 (should be 0 for 7x7)\n",
        "            nn.ConvTranspose2d(32,16, 3, 2, 1, output_padding=1), nn.ReLU(), # 7->14\n",
        "            nn.ConvTranspose2d(16, 1, 3, 2, 1, output_padding=1), nn.Sigmoid() # 14->28\n",
        "        )\n",
        "    def forward(self,x): return self.dec(self.enc(x))\n",
        "\n",
        "model = CAE().to(DEVICE)\n",
        "opt   = optim.Adam(model.parameters(), lr=1e-3)\n",
        "crit  = nn.L1Loss()\n",
        "\n",
        "EPOCHS = 10  # quick demo; try 30 for better\n",
        "for ep in trange(EPOCHS):\n",
        "    model.train()\n",
        "    s=0; n=0\n",
        "    for xb,_ in train_loader:\n",
        "        xb = xb.to(DEVICE)\n",
        "        yb = model(xb)\n",
        "        loss = crit(yb, xb)\n",
        "        opt.zero_grad(); loss.backward(); opt.step()\n",
        "        s += loss.item()*xb.size(0); n += xb.size(0)\n",
        "    print(f\"epoch {ep+1}: L1={s/n:.4f}\")"
      ],
      "metadata": {
        "colab": {
          "base_uri": "https://localhost:8080/"
        },
        "id": "P29f-lQxMB0b",
        "outputId": "45ebaf0d-815d-4f80-cc88-c787f5a26bac"
      },
      "id": "P29f-lQxMB0b",
      "execution_count": 8,
      "outputs": [
        {
          "output_type": "stream",
          "name": "stderr",
          "text": [
            " 10%|█         | 1/10 [00:01<00:09,  1.03s/it]"
          ]
        },
        {
          "output_type": "stream",
          "name": "stdout",
          "text": [
            "epoch 1: L1=0.3215\n"
          ]
        },
        {
          "output_type": "stream",
          "name": "stderr",
          "text": [
            "\r 20%|██        | 2/10 [00:01<00:06,  1.14it/s]"
          ]
        },
        {
          "output_type": "stream",
          "name": "stdout",
          "text": [
            "epoch 2: L1=0.1680\n"
          ]
        },
        {
          "output_type": "stream",
          "name": "stderr",
          "text": [
            "\r 30%|███       | 3/10 [00:02<00:05,  1.22it/s]"
          ]
        },
        {
          "output_type": "stream",
          "name": "stdout",
          "text": [
            "epoch 3: L1=0.1677\n"
          ]
        },
        {
          "output_type": "stream",
          "name": "stderr",
          "text": [
            "\r 40%|████      | 4/10 [00:03<00:04,  1.25it/s]"
          ]
        },
        {
          "output_type": "stream",
          "name": "stdout",
          "text": [
            "epoch 4: L1=0.1677\n"
          ]
        },
        {
          "output_type": "stream",
          "name": "stderr",
          "text": [
            "\r 50%|█████     | 5/10 [00:04<00:04,  1.16it/s]"
          ]
        },
        {
          "output_type": "stream",
          "name": "stdout",
          "text": [
            "epoch 5: L1=0.1677\n"
          ]
        },
        {
          "output_type": "stream",
          "name": "stderr",
          "text": [
            "\r 60%|██████    | 6/10 [00:05<00:03,  1.04it/s]"
          ]
        },
        {
          "output_type": "stream",
          "name": "stdout",
          "text": [
            "epoch 6: L1=0.1677\n"
          ]
        },
        {
          "output_type": "stream",
          "name": "stderr",
          "text": [
            "\r 70%|███████   | 7/10 [00:06<00:03,  1.01s/it]"
          ]
        },
        {
          "output_type": "stream",
          "name": "stdout",
          "text": [
            "epoch 7: L1=0.1677\n"
          ]
        },
        {
          "output_type": "stream",
          "name": "stderr",
          "text": [
            "\r 80%|████████  | 8/10 [00:07<00:01,  1.06it/s]"
          ]
        },
        {
          "output_type": "stream",
          "name": "stdout",
          "text": [
            "epoch 8: L1=0.1677\n"
          ]
        },
        {
          "output_type": "stream",
          "name": "stderr",
          "text": [
            "\r 90%|█████████ | 9/10 [00:08<00:00,  1.11it/s]"
          ]
        },
        {
          "output_type": "stream",
          "name": "stdout",
          "text": [
            "epoch 9: L1=0.1677\n"
          ]
        },
        {
          "output_type": "stream",
          "name": "stderr",
          "text": [
            "100%|██████████| 10/10 [00:08<00:00,  1.12it/s]"
          ]
        },
        {
          "output_type": "stream",
          "name": "stdout",
          "text": [
            "epoch 10: L1=0.1677\n"
          ]
        },
        {
          "output_type": "stream",
          "name": "stderr",
          "text": [
            "\n"
          ]
        }
      ]
    },
    {
      "cell_type": "code",
      "source": [
        "from sklearn.metrics import roc_auc_score, roc_curve, classification_report\n",
        "import numpy as np\n",
        "\n",
        "model.eval()\n",
        "scores = []\n",
        "labels = []  # 0 = normal, 1 = anomaly\n",
        "\n",
        "with torch.no_grad():\n",
        "    for xb, yb in test_loader:\n",
        "        xb = xb.to(DEVICE)\n",
        "        recon = model(xb)\n",
        "        err = (recon - xb).abs().flatten(1).mean(dim=1)  # L1 per image\n",
        "        # label: 0 if sneaker, else 1\n",
        "        lbl = (yb != NORMAL_CLASS).int()\n",
        "        scores.extend(err.detach().cpu().numpy().tolist())\n",
        "        labels.extend(lbl.numpy().tolist())\n",
        "\n",
        "auc = roc_auc_score(labels, scores)\n",
        "print(\"Image AUROC:\", round(auc,4))\n",
        "\n",
        "# Choose threshold (Youden’s J)\n",
        "fpr,tpr,thr = roc_curve(labels, scores)\n",
        "T = thr[np.argmax(tpr - fpr)]\n",
        "pred = (np.array(scores) >= T).astype(int)\n",
        "print(\"Threshold:\", float(T))\n",
        "print(classification_report(labels, pred, target_names=[\"OK (Sneaker)\",\"ANOM (Other)\"]))\n"
      ],
      "metadata": {
        "colab": {
          "base_uri": "https://localhost:8080/"
        },
        "id": "gACk8oV7MQmE",
        "outputId": "8b19b5fe-88aa-4b94-a346-3202421abebc"
      },
      "id": "gACk8oV7MQmE",
      "execution_count": 9,
      "outputs": [
        {
          "output_type": "stream",
          "name": "stdout",
          "text": [
            "Image AUROC: 0.8242\n",
            "Threshold: 0.22749170660972595\n",
            "              precision    recall  f1-score   support\n",
            "\n",
            "OK (Sneaker)       0.24      0.88      0.38      1000\n",
            "ANOM (Other)       0.98      0.69      0.81      9000\n",
            "\n",
            "    accuracy                           0.71     10000\n",
            "   macro avg       0.61      0.78      0.59     10000\n",
            "weighted avg       0.91      0.71      0.76     10000\n",
            "\n"
          ]
        }
      ]
    },
    {
      "cell_type": "code",
      "source": [
        "import matplotlib.pyplot as plt\n",
        "import random, torch\n",
        "\n",
        "def show_case(img, recon, title=\"\"):\n",
        "    x = img.squeeze(0).cpu().numpy()\n",
        "    y = recon.squeeze(0).cpu().numpy()\n",
        "    err = np.abs(y-x)\n",
        "    plt.figure(figsize=(9,3))\n",
        "    plt.subplot(1,3,1); plt.imshow(x, cmap=\"gray\"); plt.title(\"Input\"); plt.axis(\"off\")\n",
        "    plt.subplot(1,3,2); plt.imshow(y, cmap=\"gray\"); plt.title(\"Reconstruction\"); plt.axis(\"off\")\n",
        "    plt.subplot(1,3,3); plt.imshow(err, cmap=\"inferno\"); plt.title(\"Error\"); plt.axis(\"off\")\n",
        "    plt.suptitle(title); plt.show()\n",
        "\n",
        "# sample a few from test set\n",
        "model.eval()\n",
        "for _ in range(6):\n",
        "    i = random.randrange(len(test_ds))\n",
        "    img, y = test_ds[i]\n",
        "    with torch.no_grad():\n",
        "        r = model(img.unsqueeze(0).to(DEVICE)).cpu()\n",
        "        s = (r - img.unsqueeze(0)).abs().mean().item()\n",
        "        title = f\"Label={'Sneaker' if y==NORMAL_CLASS else 'Other'} | Score={s:.4f} | Pred={'ANOM' if s>=T else 'OK'}\"\n",
        "        show_case(img, r.squeeze(0), title)\n"
      ],
      "metadata": {
        "colab": {
          "base_uri": "https://localhost:8080/",
          "height": 1000
        },
        "id": "Wohp23F-MTc1",
        "outputId": "b3f41d4e-080b-4494-bb52-38424447cd83"
      },
      "id": "Wohp23F-MTc1",
      "execution_count": 10,
      "outputs": [
        {
          "output_type": "display_data",
          "data": {
            "text/plain": [
              "<Figure size 900x300 with 3 Axes>"
            ],
            "image/png": "[encoded data removed]"
          },
          "metadata": {}
        },
        {
          "output_type": "display_data",
          "data": {
            "text/plain": [
              "<Figure size 900x300 with 3 Axes>"
            ],
            "image/png": "[encoded data removed]"
          },
          "metadata": {}
        },
        {
          "output_type": "display_data",
          "data": {
            "text/plain": [
              "<Figure size 900x300 with 3 Axes>"
            ],
            "image/png": "[encoded data removed]"
          },
          "metadata": {}
        },
        {
          "output_type": "display_data",
          "data": {
            "text/plain": [
              "<Figure size 900x300 with 3 Axes>"
            ],
            "image/png": "[encoded data removed]"
          },
          "metadata": {}
        },
        {
          "output_type": "display_data",
          "data": {
            "text/plain": [
              "<Figure size 900x300 with 3 Axes>"
            ],
            "image/png": "[encoded data removed]"
          },
          "metadata": {}
        },
        {
          "output_type": "display_data",
          "data": {
            "text/plain": [
              "<Figure size 900x300 with 3 Axes>"
            ],
            "image/png": "[encoded data removed]"
          },
          "metadata": {}
        }
      ]
    },
    {
      "cell_type": "code",
      "source": [
        "!pip -q install torch torchvision timm scikit-learn matplotlib opencv-python tqdm\n",
        "!pip -q install anomalib==1.1.0 onnx onnxruntime\n"
      ],
      "metadata": {
        "id": "qkj4K_QgMpKA"
      },
      "id": "qkj4K_QgMpKA",
      "execution_count": 11,
      "outputs": []
    },
    {
      "cell_type": "code",
      "source": [
        "import torchvision as tv, torchvision.transforms as T\n",
        "from torch.utils.data import DataLoader, Subset\n",
        "import numpy as np, torch, os, shutil, random, glob\n",
        "\n",
        "NORMAL_CLASS = 7  # 7 = 'horse' in CIFAR-10 labels; change as you like\n",
        "\n",
        "transform = T.Compose([T.Resize(224), T.ToTensor()])  # 224 for pretrained backbones\n",
        "train_full = tv.datasets.CIFAR10(\"/content/data\", train=True,  download=True, transform=transform)\n",
        "test_full  = tv.datasets.CIFAR10(\"/content/data\", train=False, download=True, transform=transform)\n",
        "\n",
        "def idxs_by_class(ds, cls): return [i for i,(_,y) in enumerate(ds) if y==cls]\n",
        "\n",
        "# Train only on NORMAL (unsupervised AD assumption)\n",
        "train_idx = idxs_by_class(train_full, NORMAL_CLASS)\n",
        "train_ds  = Subset(train_full, train_idx)\n",
        "test_ds   = test_full  # contains both normal and anomalies\n",
        "\n",
        "train_loader = DataLoader(train_ds, batch_size=128, shuffle=True, num_workers=2, pin_memory=True)\n",
        "test_loader  = DataLoader(test_ds,  batch_size=256, shuffle=False, num_workers=2, pin_memory=True)\n",
        "\n",
        "print(f\"Train normals: {len(train_ds)} | Test total: {len(test_ds)}\")\n"
      ],
      "metadata": {
        "colab": {
          "base_uri": "https://localhost:8080/"
        },
        "id": "F4kBmRnQMuD_",
        "outputId": "195167eb-4867-4914-d58b-d2ec2b84b650"
      },
      "id": "F4kBmRnQMuD_",
      "execution_count": 12,
      "outputs": [
        {
          "output_type": "stream",
          "name": "stderr",
          "text": [
            "100%|██████████| 170M/170M [00:03<00:00, 43.4MB/s]\n"
          ]
        },
        {
          "output_type": "stream",
          "name": "stdout",
          "text": [
            "Train normals: 5000 | Test total: 10000\n"
          ]
        }
      ]
    },
    {
      "cell_type": "code",
      "source": [
        "import torch, torch.nn as nn, torch.optim as optim\n",
        "import timm, random, math\n",
        "from tqdm import trange\n",
        "\n",
        "DEVICE = \"cuda\" if torch.cuda.is_available() else \"cpu\"\n",
        "\n",
        "# --- CutPaste augmentation ---\n",
        "import torchvision.transforms.functional as TF\n",
        "def cutpaste(img, scale=(0.02,0.15)):\n",
        "    c,h,w = img.shape\n",
        "    area = h*w\n",
        "    target = random.uniform(*scale) * area\n",
        "    rh = int(math.sqrt(target))\n",
        "    rw = int(target / max(rh,1))\n",
        "    y1 = random.randint(0, h-rh-1)\n",
        "    x1 = random.randint(0, w-rw-1)\n",
        "    patch = img[:, y1:y1+rh, x1:x1+rw].clone()\n",
        "    # paste to new location\n",
        "    y2 = random.randint(0, h-rh-1)\n",
        "    x2 = random.randint(0, w-rw-1)\n",
        "    out = img.clone()\n",
        "    out[:, y2:y2+rh, x2:x2+rw] = patch\n",
        "    return out\n",
        "\n",
        "# classifier backbone\n",
        "model = timm.create_model(\"resnet18\", pretrained=True, num_classes=2).to(DEVICE)  # 0=normal,1=cutpaste\n",
        "opt   = optim.AdamW(model.parameters(), lr=3e-4, weight_decay=1e-4)\n",
        "crit  = nn.CrossEntropyLoss()\n",
        "\n",
        "EPOCHS = 10  # bump to 30+ for best results\n",
        "for ep in trange(EPOCHS):\n",
        "    model.train()\n",
        "    s=n=0\n",
        "    for xb,_ in train_loader:\n",
        "        xb = xb.to(DEVICE)\n",
        "        # half normal, half cutpaste\n",
        "        xb_aug = xb.clone()\n",
        "        for i in range(xb_aug.size(0)//2, xb_aug.size(0)):\n",
        "            xb_aug[i] = cutpaste(xb_aug[i])\n",
        "        y = torch.zeros(xb.size(0), dtype=torch.long, device=DEVICE)\n",
        "        y[xb.size(0)//2:] = 1\n",
        "        logits = model(xb_aug)\n",
        "        loss = crit(logits, y)\n",
        "        opt.zero_grad(); loss.backward(); opt.step()\n",
        "        s += loss.item()*xb.size(0); n += xb.size(0)\n",
        "    print(f\"ep{ep+1}: loss={s/n:.4f}\")\n"
      ],
      "metadata": {
        "colab": {
          "base_uri": "https://localhost:8080/",
          "height": 364,
          "referenced_widgets": [
            "01c93c3b1af74363b4432e5279f26e19",
            "63b985e23c4b4acc9832a0db0911a6b5",
            "1c8080e7ceee4abe92ccf082dea08303",
            "fded6fea68f24a03ba3f4d477d98a984",
            "efc85f7e07e240e684597179cecc2b28",
            "55bd5a6c56094e42ab8c388d4015fcbc",
            "7ef77341a84445629270c3db9302bc67",
            "ee9fc0790fb040ab8ec895c846e6ed51",
            "3474f568fd854b60b75e79aac1081f1e",
            "3f546a4b1a174da7ba38d000a8069e27",
            "7ca7d1dcf99a4f2182b278df1a40d651"
          ]
        },
        "id": "W6mFpVkaMuyC",
        "outputId": "c8be679d-5848-41b4-d5d1-0f0efe151012"
      },
      "id": "W6mFpVkaMuyC",
      "execution_count": 13,
      "outputs": [
        {
          "output_type": "stream",
          "name": "stderr",
          "text": [
            "/usr/local/lib/python3.12/dist-packages/huggingface_hub/utils/_auth.py:94: UserWarning: \n",
            "The secret `HF_TOKEN` does not exist in your Colab secrets.\n",
            "To authenticate with the Hugging Face Hub, create a token in your settings tab (https://huggingface.co/settings/tokens), set it as secret in your Google Colab and restart your session.\n",
            "You will be able to reuse this secret in all of your notebooks.\n",
            "Please note that authentication is recommended but still optional to access public models or datasets.\n",
            "  warnings.warn(\n"
          ]
        },
        {
          "output_type": "display_data",
          "data": {
            "text/plain": [
              "model.safetensors:   0%|          | 0.00/46.8M [00:00<?, ?B/s]"
            ],
            "application/vnd.jupyter.widget-view+json": {
              "version_major": 2,
              "version_minor": 0,
              "model_id": "01c93c3b1af74363b4432e5279f26e19"
            }
          },
          "metadata": {}
        },
        {
          "output_type": "stream",
          "name": "stderr",
          "text": [
            " 10%|█         | 1/10 [00:14<02:14, 14.94s/it]"
          ]
        },
        {
          "output_type": "stream",
          "name": "stdout",
          "text": [
            "ep1: loss=0.4079\n"
          ]
        },
        {
          "output_type": "stream",
          "name": "stderr",
          "text": [
            "\r 20%|██        | 2/10 [00:29<01:56, 14.52s/it]"
          ]
        },
        {
          "output_type": "stream",
          "name": "stdout",
          "text": [
            "ep2: loss=0.0371\n"
          ]
        },
        {
          "output_type": "stream",
          "name": "stderr",
          "text": [
            "\r 30%|███       | 3/10 [00:43<01:41, 14.46s/it]"
          ]
        },
        {
          "output_type": "stream",
          "name": "stdout",
          "text": [
            "ep3: loss=0.0189\n"
          ]
        },
        {
          "output_type": "stream",
          "name": "stderr",
          "text": [
            "\r 40%|████      | 4/10 [00:58<01:26, 14.49s/it]"
          ]
        },
        {
          "output_type": "stream",
          "name": "stdout",
          "text": [
            "ep4: loss=0.0128\n"
          ]
        },
        {
          "output_type": "stream",
          "name": "stderr",
          "text": [
            "\r 50%|█████     | 5/10 [01:12<01:12, 14.52s/it]"
          ]
        },
        {
          "output_type": "stream",
          "name": "stdout",
          "text": [
            "ep5: loss=0.0105\n"
          ]
        },
        {
          "output_type": "stream",
          "name": "stderr",
          "text": [
            "\r 60%|██████    | 6/10 [01:27<00:58, 14.57s/it]"
          ]
        },
        {
          "output_type": "stream",
          "name": "stdout",
          "text": [
            "ep6: loss=0.0044\n"
          ]
        },
        {
          "output_type": "stream",
          "name": "stderr",
          "text": [
            "\r 70%|███████   | 7/10 [01:42<00:44, 14.72s/it]"
          ]
        },
        {
          "output_type": "stream",
          "name": "stdout",
          "text": [
            "ep7: loss=0.0085\n"
          ]
        },
        {
          "output_type": "stream",
          "name": "stderr",
          "text": [
            "\r 80%|████████  | 8/10 [01:57<00:29, 14.82s/it]"
          ]
        },
        {
          "output_type": "stream",
          "name": "stdout",
          "text": [
            "ep8: loss=0.0102\n"
          ]
        },
        {
          "output_type": "stream",
          "name": "stderr",
          "text": [
            "\r 90%|█████████ | 9/10 [02:12<00:14, 14.87s/it]"
          ]
        },
        {
          "output_type": "stream",
          "name": "stdout",
          "text": [
            "ep9: loss=0.0078\n"
          ]
        },
        {
          "output_type": "stream",
          "name": "stderr",
          "text": [
            "100%|██████████| 10/10 [02:27<00:00, 14.74s/it]"
          ]
        },
        {
          "output_type": "stream",
          "name": "stdout",
          "text": [
            "ep10: loss=0.0060\n"
          ]
        },
        {
          "output_type": "stream",
          "name": "stderr",
          "text": [
            "\n"
          ]
        }
      ]
    },
    {
      "cell_type": "markdown",
      "source": [
        "# Inference (anomaly score = probability of CutPaste)"
      ],
      "metadata": {
        "id": "v428_bZ9NEnq"
      },
      "id": "v428_bZ9NEnq"
    },
    {
      "cell_type": "code",
      "source": [
        "import torch.nn.functional as F\n",
        "from sklearn.metrics import roc_auc_score, roc_curve, classification_report\n",
        "import numpy as np\n",
        "\n",
        "model.eval()\n",
        "scores, labels = [], []\n",
        "with torch.no_grad():\n",
        "    for xb, yb in test_loader:\n",
        "        lab = (yb != NORMAL_CLASS).int()        # anomaly if not the normal class\n",
        "        p = F.softmax(model(xb.to(DEVICE)), dim=1)[:,1]  # prob of 'cutpaste' class\n",
        "        scores.extend(p.detach().cpu().numpy().tolist())\n",
        "        labels.extend(lab.numpy().tolist())\n",
        "\n",
        "# Save labels and scores to numpy files\n",
        "np.save(\"labels.npy\", np.array(labels))\n",
        "np.save(\"scores.npy\", np.array(scores))\n",
        "\n",
        "auc = roc_auc_score(labels, scores)\n",
        "print(\"CutPaste AUROC:\", round(auc,4))\n",
        "\n",
        "fpr,tpr,thr = roc_curve(labels, scores)\n",
        "T = thr[np.argmax(tpr - fpr)]\n",
        "pred = (np.array(scores) >= T).astype(int)\n",
        "print(\"Threshold:\", float(T))\n",
        "print(classification_report(labels, pred, target_names=[\"OK\",\"ANOM\"]))"
      ],
      "metadata": {
        "colab": {
          "base_uri": "https://localhost:8080/"
        },
        "id": "tJ60qWRYNI6Q",
        "outputId": "a5f54058-0f2e-4c3f-dbbb-0f26dbd8eb1d"
      },
      "id": "tJ60qWRYNI6Q",
      "execution_count": 30,
      "outputs": [
        {
          "output_type": "stream",
          "name": "stdout",
          "text": [
            "CutPaste AUROC: 0.6729\n",
            "Threshold: 0.010718019679188728\n",
            "              precision    recall  f1-score   support\n",
            "\n",
            "          OK       0.16      0.65      0.25      1000\n",
            "        ANOM       0.94      0.61      0.74      9000\n",
            "\n",
            "    accuracy                           0.61     10000\n",
            "   macro avg       0.55      0.63      0.49     10000\n",
            "weighted avg       0.86      0.61      0.69     10000\n",
            "\n"
          ]
        }
      ]
    },
    {
      "cell_type": "markdown",
      "source": [
        "# Convert CIFAR-10 to folder dataset for anomalib"
      ],
      "metadata": {
        "id": "C0_9jl_fNQZc"
      },
      "id": "C0_9jl_fNQZc"
    },
    {
      "cell_type": "code",
      "source": [
        "ROOT = \"/content/cifar10_folder\"\n",
        "for p in [f\"{ROOT}/train/good\", f\"{ROOT}/test/good\", f\"{ROOT}/test/defect\"]:\n",
        "    os.makedirs(p, exist_ok=True)\n",
        "\n",
        "# dump train (only NORMAL_CLASS)\n",
        "for i,(img,y) in enumerate(train_ds):\n",
        "    tv.utils.save_image(img, f\"{ROOT}/train/good/{i:06d}.png\")\n",
        "\n",
        "# dump test (normal + anomaly)\n",
        "for i,(img,y) in enumerate(test_ds):\n",
        "    sub = \"good\" if y==NORMAL_CLASS else \"defect\"\n",
        "    tv.utils.save_image(img, f\"{ROOT}/test/{sub}/{i:06d}.png\")\n",
        "\n",
        "!tree -L 3 /content/cifar10_folder | sed -n '1,200p'\n"
      ],
      "metadata": {
        "colab": {
          "base_uri": "https://localhost:8080/"
        },
        "id": "ahpPGFHmNPmD",
        "outputId": "e4b808b2-2b1c-417a-dcde-698ed25821a5"
      },
      "id": "ahpPGFHmNPmD",
      "execution_count": 15,
      "outputs": [
        {
          "output_type": "stream",
          "name": "stdout",
          "text": [
            "/bin/bash: line 1: tree: command not found\n"
          ]
        }
      ]
    },
    {
      "cell_type": "code",
      "source": [
        "# Calibrate threshold to a target FPR (e.g., 1%) using a small normal-only calibration split\n",
        "target_fpr = 0.01\n",
        "# Use your ROC (fpr,tpr,thr) from CutPaste or PatchCore outputs:\n",
        "# Find threshold with fpr <= target_fpr\n",
        "idx = np.where(fpr <= target_fpr)[0]\n",
        "T_prod = thr[idx[-1]] if len(idx) else thr[np.argmin(fpr)]\n",
        "print(\"Production threshold (FPR<=1%):\", float(T_prod))\n"
      ],
      "metadata": {
        "colab": {
          "base_uri": "https://localhost:8080/"
        },
        "id": "zwu6jhA2ONSi",
        "outputId": "d547bf7d-d0eb-42b6-f59a-ddd2ad98376d"
      },
      "id": "zwu6jhA2ONSi",
      "execution_count": 16,
      "outputs": [
        {
          "output_type": "stream",
          "name": "stdout",
          "text": [
            "Production threshold (FPR<=1%): 0.07666105031967163\n"
          ]
        }
      ]
    },
    {
      "cell_type": "code",
      "source": [
        "dummy = torch.randn(1,3,224,224, device=DEVICE)\n",
        "torch.onnx.export(model, dummy, \"/content/cutpaste_resnet18.onnx\",\n",
        "                  input_names=[\"input\"], output_names=[\"logits\"],\n",
        "                  opset_version=13)\n",
        "import onnx, onnxruntime as ort\n",
        "onnx_model = onnx.load(\"/content/cutpaste_resnet18.onnx\"); onnx.checker.check_model(onnx_model)\n",
        "sess = ort.InferenceSession(\"/content/cutpaste_resnet18.onnx\", providers=[\"CPUExecutionProvider\"])\n",
        "print(\"ONNX ready.\")\n"
      ],
      "metadata": {
        "colab": {
          "base_uri": "https://localhost:8080/"
        },
        "id": "u2PQDx4cPkNM",
        "outputId": "931731e0-8ef7-4708-c991-2da4c1ec5d0a"
      },
      "id": "u2PQDx4cPkNM",
      "execution_count": 18,
      "outputs": [
        {
          "output_type": "stream",
          "name": "stderr",
          "text": [
            "/tmp/ipython-input-1193007612.py:2: DeprecationWarning: You are using the legacy TorchScript-based ONNX export. Starting in PyTorch 2.9, the new torch.export-based ONNX exporter will be the default. To switch now, set dynamo=True in torch.onnx.export. This new exporter supports features like exporting LLMs with DynamicCache. We encourage you to try it and share feedback to help improve the experience. Learn more about the new export logic: https://pytorch.org/docs/stable/onnx_dynamo.html. For exporting control flow: https://pytorch.org/tutorials/beginner/onnx/export_control_flow_model_to_onnx_tutorial.html.\n",
            "  torch.onnx.export(model, dummy, \"/content/cutpaste_resnet18.onnx\",\n"
          ]
        },
        {
          "output_type": "stream",
          "name": "stdout",
          "text": [
            "ONNX ready.\n"
          ]
        }
      ]
    },
    {
      "cell_type": "code",
      "metadata": {
        "id": "1d9d4db7"
      },
      "source": [
        "!pip install onnxscript -q"
      ],
      "id": "1d9d4db7",
      "execution_count": 22,
      "outputs": []
    },
    {
      "cell_type": "code",
      "source": [
        "import torch\n",
        "\n",
        "dummy = torch.randn(1, 3, 224, 224, device=DEVICE)\n",
        "\n",
        "torch.onnx.export(\n",
        "    model, dummy, \"/content/cutpaste_resnet18.onnx\",\n",
        "    input_names=[\"input\"], output_names=[\"logits\"],\n",
        "    opset_version=17,          # good modern default\n",
        "    dynamo=False,               # <-- use legacy exporter\n",
        "    do_constant_folding=True,\n",
        "    dynamic_axes={\"input\": {0: \"batch\"}, \"logits\": {0: \"batch\"}}\n",
        ")\n",
        "print(\"Exported with legacy ONNX exporter (dynamo=False).\")"
      ],
      "metadata": {
        "colab": {
          "base_uri": "https://localhost:8080/"
        },
        "id": "2Vi5UKN9Pxql",
        "outputId": "aeab4b7f-0ed8-4775-b006-bbdad2d65a27"
      },
      "id": "2Vi5UKN9Pxql",
      "execution_count": 24,
      "outputs": [
        {
          "output_type": "stream",
          "name": "stderr",
          "text": [
            "/tmp/ipython-input-1642220931.py:5: DeprecationWarning: You are using the legacy TorchScript-based ONNX export. Starting in PyTorch 2.9, the new torch.export-based ONNX exporter will be the default. To switch now, set dynamo=True in torch.onnx.export. This new exporter supports features like exporting LLMs with DynamicCache. We encourage you to try it and share feedback to help improve the experience. Learn more about the new export logic: https://pytorch.org/docs/stable/onnx_dynamo.html. For exporting control flow: https://pytorch.org/tutorials/beginner/onnx/export_control_flow_model_to_onnx_tutorial.html.\n",
            "  torch.onnx.export(\n"
          ]
        },
        {
          "output_type": "stream",
          "name": "stdout",
          "text": [
            "Exported with legacy ONNX exporter (dynamo=False).\n"
          ]
        }
      ]
    },
    {
      "cell_type": "code",
      "source": [
        "import onnx, onnxruntime as ort, numpy as np\n",
        "\n",
        "onnx_model = onnx.load(\"/content/cutpaste_resnet18.onnx\")\n",
        "onnx.checker.check_model(onnx_model)\n",
        "\n",
        "sess = ort.InferenceSession(\"/content/cutpaste_resnet18.onnx\", providers=[\"CPUExecutionProvider\"])\n",
        "x = np.random.randn(1,3,224,224).astype(\"float32\")\n",
        "probs = sess.run([\"logits\"], {\"input\": x})[0]\n",
        "print(\"ORT logits shape:\", probs.shape)\n"
      ],
      "metadata": {
        "colab": {
          "base_uri": "https://localhost:8080/"
        },
        "id": "M_jO0sZ-QNzw",
        "outputId": "22568e83-3c1d-48cf-d387-2a886cfb523d"
      },
      "id": "M_jO0sZ-QNzw",
      "execution_count": 25,
      "outputs": [
        {
          "output_type": "stream",
          "name": "stdout",
          "text": [
            "ORT logits shape: (1, 2)\n"
          ]
        }
      ]
    },
    {
      "cell_type": "code",
      "source": [
        "# onnx_infer.py\n",
        "import onnxruntime as ort, numpy as np, cv2, glob, json, os\n",
        "\n",
        "IMG_SIZE = 224\n",
        "ONNX_PATH = \"cutpaste_resnet18.onnx\"     # your exported file\n",
        "THRESHOLD = 0.42                         # replace with your calibrated value\n",
        "\n",
        "def preprocess_bgr(img_bgr):\n",
        "    img = cv2.resize(img_bgr, (IMG_SIZE, IMG_SIZE))\n",
        "    img = img[:, :, ::-1].astype(\"float32\")/255.0   # BGR->RGB, [0,1]\n",
        "    img = np.transpose(img, (2,0,1))                # CHW\n",
        "    return img[None, ...]                            # NCHW\n",
        "\n",
        "def score_paths(img_paths):\n",
        "    sess = ort.InferenceSession(ONNX_PATH, providers=[\"CPUExecutionProvider\"])\n",
        "    out_name = sess.get_outputs()[0].name\n",
        "    inp_name = sess.get_inputs()[0].name\n",
        "    out = []\n",
        "    for p in img_paths:\n",
        "        x = preprocess_bgr(cv2.imread(p))\n",
        "        logits = sess.run([out_name], {inp_name: x})[0]           # [N,2]\n",
        "        # anomaly score = prob of 'cutpaste' class\n",
        "        e = np.exp(logits - logits.max(axis=1, keepdims=True))\n",
        "        prob = (e[:,1] / e.sum(axis=1))[0].item()\n",
        "        out.append({\"path\": p, \"score\": prob, \"pred\": \"ANOM\" if prob>=THRESHOLD else \"OK\"})\n",
        "    return out\n",
        "\n",
        "if __name__ == \"__main__\":\n",
        "    paths = glob.glob(\"samples/*.jpg\") + glob.glob(\"samples/*.png\")\n",
        "    res = score_paths(paths)\n",
        "    print(json.dumps(res, indent=2))\n"
      ],
      "metadata": {
        "colab": {
          "base_uri": "https://localhost:8080/"
        },
        "id": "fUJgG99tQg3D",
        "outputId": "e9a6c74f-b432-4f43-e3ff-6b3ce188471c"
      },
      "id": "fUJgG99tQg3D",
      "execution_count": 26,
      "outputs": [
        {
          "output_type": "stream",
          "name": "stdout",
          "text": [
            "[]\n"
          ]
        }
      ]
    },
    {
      "cell_type": "code",
      "source": [
        "mean = np.array([0.485, 0.456, 0.406])[:,None,None]\n",
        "std  = np.array([0.229, 0.224, 0.225])[:,None,None]\n",
        "img = (img - mean)/std\n",
        "\n"
      ],
      "metadata": {
        "colab": {
          "base_uri": "https://localhost:8080/"
        },
        "id": "NgFuGaSeQjoP",
        "outputId": "2fcaf1a2-c128-4432-b974-3da582c07541"
      },
      "id": "NgFuGaSeQjoP",
      "execution_count": 28,
      "outputs": [
        {
          "output_type": "stream",
          "name": "stderr",
          "text": [
            "/tmp/ipython-input-2763200514.py:3: DeprecationWarning: __array_wrap__ must accept context and return_scalar arguments (positionally) in the future. (Deprecated NumPy 2.0)\n",
            "  img = (img - mean)/std\n"
          ]
        }
      ]
    },
    {
      "cell_type": "code",
      "source": [
        "import numpy as np\n",
        "\n",
        "# Suppose you already have these from evaluation:\n",
        "# labels = [...]  # 0 for normal, 1 for anomaly\n",
        "# scores = [...]  # float anomaly scores\n",
        "\n",
        "np.save(\"labels.npy\", np.array(labels))\n",
        "np.save(\"scores.npy\", np.array(scores))\n",
        "\n",
        "print(\"Saved labels.npy and scores.npy\")\n"
      ],
      "metadata": {
        "colab": {
          "base_uri": "https://localhost:8080/"
        },
        "id": "RDGPGU2KRyZU",
        "outputId": "a9d476ba-e91d-493f-85a8-1cc9a01071a4"
      },
      "id": "RDGPGU2KRyZU",
      "execution_count": 31,
      "outputs": [
        {
          "output_type": "stream",
          "name": "stdout",
          "text": [
            "Saved labels.npy and scores.npy\n"
          ]
        }
      ]
    },
    {
      "cell_type": "code",
      "source": [
        "import numpy as np, json\n",
        "from sklearn.metrics import roc_curve\n",
        "\n",
        "labels = np.load(\"labels.npy\")\n",
        "scores = np.load(\"scores.npy\")\n",
        "\n",
        "fpr, tpr, thr = roc_curve(labels, scores)\n",
        "target_fpr = 0.01\n",
        "idx = np.where(fpr <= target_fpr)[0]\n",
        "T = float(thr[idx[-1]] if len(idx) else thr[np.argmin(fpr)])\n",
        "print(\"Chosen threshold:\", T)\n",
        "\n",
        "with open(\"threshold.json\", \"w\") as f:\n",
        "    json.dump({\"threshold\": T}, f)\n"
      ],
      "metadata": {
        "colab": {
          "base_uri": "https://localhost:8080/"
        },
        "id": "A5RwRcpJR2k1",
        "outputId": "8ce2856f-2d78-4a8c-9340-39de9c69672b"
      },
      "id": "A5RwRcpJR2k1",
      "execution_count": 32,
      "outputs": [
        {
          "output_type": "stream",
          "name": "stdout",
          "text": [
            "Chosen threshold: 0.07666105031967163\n"
          ]
        }
      ]
    },
    {
      "cell_type": "code",
      "source": [
        "import json\n",
        "with open(\"threshold.json\") as f:\n",
        "    THRESHOLD = json.load(f)[\"threshold\"]\n"
      ],
      "metadata": {
        "id": "3vcGBfikR3Om"
      },
      "id": "3vcGBfikR3Om",
      "execution_count": 33,
      "outputs": []
    },
    {
      "cell_type": "code",
      "source": [
        "# batch_infer.py\n",
        "import csv, glob, json\n",
        "from onnx_infer import score_paths\n",
        "\n",
        "paths = glob.glob(\"eval/normal/*\") + glob.glob(\"eval/anomaly/*\")\n",
        "res = score_paths(paths)\n",
        "with open(\"preds.csv\",\"w\",newline=\"\") as f:\n",
        "    w=csv.DictWriter(f, fieldnames=[\"path\",\"score\",\"pred\"]); w.writeheader(); w.writerows(res)\n",
        "print(\"Wrote preds.csv\")\n"
      ],
      "metadata": {
        "colab": {
          "base_uri": "https://localhost:8080/",
          "height": 384
        },
        "id": "y2MeUI5KR5YP",
        "outputId": "b0f3ec74-4624-452a-ef6c-93266275a9ff"
      },
      "id": "y2MeUI5KR5YP",
      "execution_count": 34,
      "outputs": [
        {
          "output_type": "error",
          "ename": "ModuleNotFoundError",
          "evalue": "No module named 'onnx_infer'",
          "traceback": [
            "\u001b[0;31m---------------------------------------------------------------------------\u001b[0m",
            "\u001b[0;31mModuleNotFoundError\u001b[0m                       Traceback (most recent call last)",
            "\u001b[0;32m/tmp/ipython-input-2168556291.py\u001b[0m in \u001b[0;36m<cell line: 0>\u001b[0;34m()\u001b[0m\n\u001b[1;32m      1\u001b[0m \u001b[0;31m# batch_infer.py\u001b[0m\u001b[0;34m\u001b[0m\u001b[0;34m\u001b[0m\u001b[0m\n\u001b[1;32m      2\u001b[0m \u001b[0;32mimport\u001b[0m \u001b[0mcsv\u001b[0m\u001b[0;34m,\u001b[0m \u001b[0mglob\u001b[0m\u001b[0;34m,\u001b[0m \u001b[0mjson\u001b[0m\u001b[0;34m\u001b[0m\u001b[0;34m\u001b[0m\u001b[0m\n\u001b[0;32m----> 3\u001b[0;31m \u001b[0;32mfrom\u001b[0m \u001b[0monnx_infer\u001b[0m \u001b[0;32mimport\u001b[0m \u001b[0mscore_paths\u001b[0m\u001b[0;34m\u001b[0m\u001b[0;34m\u001b[0m\u001b[0m\n\u001b[0m\u001b[1;32m      4\u001b[0m \u001b[0;34m\u001b[0m\u001b[0m\n\u001b[1;32m      5\u001b[0m \u001b[0mpaths\u001b[0m \u001b[0;34m=\u001b[0m \u001b[0mglob\u001b[0m\u001b[0;34m.\u001b[0m\u001b[0mglob\u001b[0m\u001b[0;34m(\u001b[0m\u001b[0;34m\"eval/normal/*\"\u001b[0m\u001b[0;34m)\u001b[0m \u001b[0;34m+\u001b[0m \u001b[0mglob\u001b[0m\u001b[0;34m.\u001b[0m\u001b[0mglob\u001b[0m\u001b[0;34m(\u001b[0m\u001b[0;34m\"eval/anomaly/*\"\u001b[0m\u001b[0;34m)\u001b[0m\u001b[0;34m\u001b[0m\u001b[0;34m\u001b[0m\u001b[0m\n",
            "\u001b[0;31mModuleNotFoundError\u001b[0m: No module named 'onnx_infer'",
            "",
            "\u001b[0;31m---------------------------------------------------------------------------\u001b[0;32m\nNOTE: If your import is failing due to a missing package, you can\nmanually install dependencies using either !pip or !apt.\n\nTo view examples of installing some common dependencies, click the\n\"Open Examples\" button below.\n\u001b[0;31m---------------------------------------------------------------------------\u001b[0m\n"
          ],
          "errorDetails": {
            "actions": [
              {
                "action": "open_url",
                "actionText": "Open Examples",
                "url": "/notebooks/snippets/importing_libraries.ipynb"
              }
            ]
          }
        }
      ]
    },
    {
      "cell_type": "code",
      "metadata": {
        "colab": {
          "base_uri": "https://localhost:8080/"
        },
        "id": "f52c776b",
        "outputId": "a7cf6181-731f-4c7f-e42d-be7dd08e2326"
      },
      "source": [
        "# Create onnx_infer.py\n",
        "%%writefile onnx_infer.py\n",
        "import onnxruntime as ort, numpy as np, cv2, glob, json, os\n",
        "\n",
        "IMG_SIZE = 224\n",
        "ONNX_PATH = \"cutpaste_resnet18.onnx\"     # your exported file\n",
        "THRESHOLD = 0.42                         # replace with your calibrated value\n",
        "\n",
        "def preprocess_bgr(img_bgr):\n",
        "    img = cv2.resize(img_bgr, (IMG_SIZE, IMG_SIZE))\n",
        "    img = img[:, :, ::-1].astype(\"float32\")/255.0   # BGR->RGB, [0,1]\n",
        "    img = np.transpose(img, (2,0,1))                # CHW\n",
        "    return img[None, ...]                            # NCHW\n",
        "\n",
        "def score_paths(img_paths):\n",
        "    sess = ort.InferenceSession(ONNX_PATH, providers=[\"CPUExecutionProvider\"])\n",
        "    out_name = sess.get_outputs()[0].name\n",
        "    inp_name = sess.get_inputs()[0].name\n",
        "    out = []\n",
        "    for p in img_paths:\n",
        "        x = preprocess_bgr(cv2.imread(p))\n",
        "        logits = sess.run([out_name], {inp_name: x})[0]           # [N,2]\n",
        "        # anomaly score = prob of 'cutpaste' class\n",
        "        e = np.exp(logits - logits.max(axis=1, keepdims=True))\n",
        "        prob = (e[:,1] / e.sum(axis=1))[0].item()\n",
        "        out.append({\"path\": p, \"score\": prob, \"pred\": \"ANOM\" if prob>=THRESHOLD else \"OK\"})\n",
        "    return out\n",
        "\n",
        "if __name__ == \"__main__\":\n",
        "    paths = glob.glob(\"samples/*.jpg\") + glob.glob(\"samples/*.png\")\n",
        "    res = score_paths(paths)\n",
        "    print(json.dumps(res, indent=2))"
      ],
      "id": "f52c776b",
      "execution_count": 35,
      "outputs": [
        {
          "output_type": "stream",
          "name": "stdout",
          "text": [
            "Writing onnx_infer.py\n"
          ]
        }
      ]
    },
    {
      "cell_type": "code",
      "metadata": {
        "id": "b36298bc"
      },
      "source": [
        "import json\n",
        "with open(\"threshold.json\") as f:\n",
        "    THRESHOLD = json.load(f)[\"threshold\"]"
      ],
      "id": "b36298bc",
      "execution_count": 37,
      "outputs": []
    },
    {
      "cell_type": "code",
      "source": [
        "# example: take your timm backbone and export it for feature extraction\n",
        "import timm, torch\n",
        "from collections import OrderedDict\n",
        "\n",
        "class FeatNet(torch.nn.Module):\n",
        "    def __init__(self, name=\"resnet18\"):\n",
        "        super().__init__()\n",
        "        m = timm.create_model(name, pretrained=True, num_classes=0)  # returns features\n",
        "        self.backbone = m\n",
        "    def forward(self, x):\n",
        "        f = self.backbone(x)  # [N, D]\n",
        "        return f\n",
        "\n",
        "net = FeatNet(\"resnet18\").eval().to(DEVICE)\n",
        "dummy = torch.randn(1,3,224,224, device=DEVICE)\n",
        "torch.onnx.export(net, dummy, \"resnet18_feats.onnx\",\n",
        "                  input_names=[\"input\"], output_names=[\"feat\"], opset_version=17, dynamo=False) # Changed dynamo to False"
      ],
      "metadata": {
        "colab": {
          "base_uri": "https://localhost:8080/"
        },
        "id": "jjUKZQr2SLO3",
        "outputId": "8089a99e-f06c-435b-9096-fa2bcdab10b7"
      },
      "id": "jjUKZQr2SLO3",
      "execution_count": 39,
      "outputs": [
        {
          "output_type": "stream",
          "name": "stderr",
          "text": [
            "/tmp/ipython-input-89438696.py:16: DeprecationWarning: You are using the legacy TorchScript-based ONNX export. Starting in PyTorch 2.9, the new torch.export-based ONNX exporter will be the default. To switch now, set dynamo=True in torch.onnx.export. This new exporter supports features like exporting LLMs with DynamicCache. We encourage you to try it and share feedback to help improve the experience. Learn more about the new export logic: https://pytorch.org/docs/stable/onnx_dynamo.html. For exporting control flow: https://pytorch.org/tutorials/beginner/onnx/export_control_flow_model_to_onnx_tutorial.html.\n",
            "  torch.onnx.export(net, dummy, \"resnet18_feats.onnx\",\n"
          ]
        }
      ]
    }
  ],
  "metadata": {
    "colab": {
      "provenance": [],
      "gpuType": "T4",
      "include_colab_link": true
    },
    "accelerator": "GPU",
    "language_info": {
      "name": "python"
    },
    "kernelspec": {
      "name": "python3",
      "display_name": "Python 3"
    },
    "widgets": {
      "application/vnd.jupyter.widget-state+json": {
        "01c93c3b1af74363b4432e5279f26e19": {
          "model_module": "@jupyter-widgets/controls",
          "model_name": "HBoxModel",
          "model_module_version": "1.5.0",
          "state": {
            "_dom_classes": [],
            "_model_module": "@jupyter-widgets/controls",
            "_model_module_version": "1.5.0",
            "_model_name": "HBoxModel",
            "_view_count": null,
            "_view_module": "@jupyter-widgets/controls",
            "_view_module_version": "1.5.0",
            "_view_name": "HBoxView",
            "box_style": "",
            "children": [
              "IPY_MODEL_63b985e23c4b4acc9832a0db0911a6b5",
              "IPY_MODEL_1c8080e7ceee4abe92ccf082dea08303",
              "IPY_MODEL_fded6fea68f24a03ba3f4d477d98a984"
            ],
            "layout": "IPY_MODEL_efc85f7e07e240e684597179cecc2b28"
          }
        },
        "63b985e23c4b4acc9832a0db0911a6b5": {
          "model_module": "@jupyter-widgets/controls",
          "model_name": "HTMLModel",
          "model_module_version": "1.5.0",
          "state": {
            "_dom_classes": [],
            "_model_module": "@jupyter-widgets/controls",
            "_model_module_version": "1.5.0",
            "_model_name": "HTMLModel",
            "_view_count": null,
            "_view_module": "@jupyter-widgets/controls",
            "_view_module_version": "1.5.0",
            "_view_name": "HTMLView",
            "description": "",
            "description_tooltip": null,
            "layout": "IPY_MODEL_55bd5a6c56094e42ab8c388d4015fcbc",
            "placeholder": "​",
            "style": "IPY_MODEL_7ef77341a84445629270c3db9302bc67",
            "value": "model.safetensors: 100%"
          }
        },
        "1c8080e7ceee4abe92ccf082dea08303": {
          "model_module": "@jupyter-widgets/controls",
          "model_name": "FloatProgressModel",
          "model_module_version": "1.5.0",
          "state": {
            "_dom_classes": [],
            "_model_module": "@jupyter-widgets/controls",
            "_model_module_version": "1.5.0",
            "_model_name": "FloatProgressModel",
            "_view_count": null,
            "_view_module": "@jupyter-widgets/controls",
            "_view_module_version": "1.5.0",
            "_view_name": "ProgressView",
            "bar_style": "success",
            "description": "",
            "description_tooltip": null,
            "layout": "IPY_MODEL_ee9fc0790fb040ab8ec895c846e6ed51",
            "max": 46807446,
            "min": 0,
            "orientation": "horizontal",
            "style": "IPY_MODEL_3474f568fd854b60b75e79aac1081f1e",
            "value": 46807446
          }
        },
        "fded6fea68f24a03ba3f4d477d98a984": {
          "model_module": "@jupyter-widgets/controls",
          "model_name": "HTMLModel",
          "model_module_version": "1.5.0",
          "state": {
            "_dom_classes": [],
            "_model_module": "@jupyter-widgets/controls",
            "_model_module_version": "1.5.0",
            "_model_name": "HTMLModel",
            "_view_count": null,
            "_view_module": "@jupyter-widgets/controls",
            "_view_module_version": "1.5.0",
            "_view_name": "HTMLView",
            "description": "",
            "description_tooltip": null,
            "layout": "IPY_MODEL_3f546a4b1a174da7ba38d000a8069e27",
            "placeholder": "​",
            "style": "IPY_MODEL_7ca7d1dcf99a4f2182b278df1a40d651",
            "value": " 46.8M/46.8M [00:00&lt;00:00, 210MB/s]"
          }
        },
        "efc85f7e07e240e684597179cecc2b28": {
          "model_module": "@jupyter-widgets/base",
          "model_name": "LayoutModel",
          "model_module_version": "1.2.0",
          "state": {
            "_model_module": "@jupyter-widgets/base",
            "_model_module_version": "1.2.0",
            "_model_name": "LayoutModel",
            "_view_count": null,
            "_view_module": "@jupyter-widgets/base",
            "_view_module_version": "1.2.0",
            "_view_name": "LayoutView",
            "align_content": null,
            "align_items": null,
            "align_self": null,
            "border": null,
            "bottom": null,
            "display": null,
            "flex": null,
            "flex_flow": null,
            "grid_area": null,
            "grid_auto_columns": null,
            "grid_auto_flow": null,
            "grid_auto_rows": null,
            "grid_column": null,
            "grid_gap": null,
            "grid_row": null,
            "grid_template_areas": null,
            "grid_template_columns": null,
            "grid_template_rows": null,
            "height": null,
            "justify_content": null,
            "justify_items": null,
            "left": null,
            "margin": null,
            "max_height": null,
            "max_width": null,
            "min_height": null,
            "min_width": null,
            "object_fit": null,
            "object_position": null,
            "order": null,
            "overflow": null,
            "overflow_x": null,
            "overflow_y": null,
            "padding": null,
            "right": null,
            "top": null,
            "visibility": null,
            "width": null
          }
        },
        "55bd5a6c56094e42ab8c388d4015fcbc": {
          "model_module": "@jupyter-widgets/base",
          "model_name": "LayoutModel",
          "model_module_version": "1.2.0",
          "state": {
            "_model_module": "@jupyter-widgets/base",
            "_model_module_version": "1.2.0",
            "_model_name": "LayoutModel",
            "_view_count": null,
            "_view_module": "@jupyter-widgets/base",
            "_view_module_version": "1.2.0",
            "_view_name": "LayoutView",
            "align_content": null,
            "align_items": null,
            "align_self": null,
            "border": null,
            "bottom": null,
            "display": null,
            "flex": null,
            "flex_flow": null,
            "grid_area": null,
            "grid_auto_columns": null,
            "grid_auto_flow": null,
            "grid_auto_rows": null,
            "grid_column": null,
            "grid_gap": null,
            "grid_row": null,
            "grid_template_areas": null,
            "grid_template_columns": null,
            "grid_template_rows": null,
            "height": null,
            "justify_content": null,
            "justify_items": null,
            "left": null,
            "margin": null,
            "max_height": null,
            "max_width": null,
            "min_height": null,
            "min_width": null,
            "object_fit": null,
            "object_position": null,
            "order": null,
            "overflow": null,
            "overflow_x": null,
            "overflow_y": null,
            "padding": null,
            "right": null,
            "top": null,
            "visibility": null,
            "width": null
          }
        },
        "7ef77341a84445629270c3db9302bc67": {
          "model_module": "@jupyter-widgets/controls",
          "model_name": "DescriptionStyleModel",
          "model_module_version": "1.5.0",
          "state": {
            "_model_module": "@jupyter-widgets/controls",
            "_model_module_version": "1.5.0",
            "_model_name": "DescriptionStyleModel",
            "_view_count": null,
            "_view_module": "@jupyter-widgets/base",
            "_view_module_version": "1.2.0",
            "_view_name": "StyleView",
            "description_width": ""
          }
        },
        "ee9fc0790fb040ab8ec895c846e6ed51": {
          "model_module": "@jupyter-widgets/base",
          "model_name": "LayoutModel",
          "model_module_version": "1.2.0",
          "state": {
            "_model_module": "@jupyter-widgets/base",
            "_model_module_version": "1.2.0",
            "_model_name": "LayoutModel",
            "_view_count": null,
            "_view_module": "@jupyter-widgets/base",
            "_view_module_version": "1.2.0",
            "_view_name": "LayoutView",
            "align_content": null,
            "align_items": null,
            "align_self": null,
            "border": null,
            "bottom": null,
            "display": null,
            "flex": null,
            "flex_flow": null,
            "grid_area": null,
            "grid_auto_columns": null,
            "grid_auto_flow": null,
            "grid_auto_rows": null,
            "grid_column": null,
            "grid_gap": null,
            "grid_row": null,
            "grid_template_areas": null,
            "grid_template_columns": null,
            "grid_template_rows": null,
            "height": null,
            "justify_content": null,
            "justify_items": null,
            "left": null,
            "margin": null,
            "max_height": null,
            "max_width": null,
            "min_height": null,
            "min_width": null,
            "object_fit": null,
            "object_position": null,
            "order": null,
            "overflow": null,
            "overflow_x": null,
            "overflow_y": null,
            "padding": null,
            "right": null,
            "top": null,
            "visibility": null,
            "width": null
          }
        },
        "3474f568fd854b60b75e79aac1081f1e": {
          "model_module": "@jupyter-widgets/controls",
          "model_name": "ProgressStyleModel",
          "model_module_version": "1.5.0",
          "state": {
            "_model_module": "@jupyter-widgets/controls",
            "_model_module_version": "1.5.0",
            "_model_name": "ProgressStyleModel",
            "_view_count": null,
            "_view_module": "@jupyter-widgets/base",
            "_view_module_version": "1.2.0",
            "_view_name": "StyleView",
            "bar_color": null,
            "description_width": ""
          }
        },
        "3f546a4b1a174da7ba38d000a8069e27": {
          "model_module": "@jupyter-widgets/base",
          "model_name": "LayoutModel",
          "model_module_version": "1.2.0",
          "state": {
            "_model_module": "@jupyter-widgets/base",
            "_model_module_version": "1.2.0",
            "_model_name": "LayoutModel",
            "_view_count": null,
            "_view_module": "@jupyter-widgets/base",
            "_view_module_version": "1.2.0",
            "_view_name": "LayoutView",
            "align_content": null,
            "align_items": null,
            "align_self": null,
            "border": null,
            "bottom": null,
            "display": null,
            "flex": null,
            "flex_flow": null,
            "grid_area": null,
            "grid_auto_columns": null,
            "grid_auto_flow": null,
            "grid_auto_rows": null,
            "grid_column": null,
            "grid_gap": null,
            "grid_row": null,
            "grid_template_areas": null,
            "grid_template_columns": null,
            "grid_template_rows": null,
            "height": null,
            "justify_content": null,
            "justify_items": null,
            "left": null,
            "margin": null,
            "max_height": null,
            "max_width": null,
            "min_height": null,
            "min_width": null,
            "object_fit": null,
            "object_position": null,
            "order": null,
            "overflow": null,
            "overflow_x": null,
            "overflow_y": null,
            "padding": null,
            "right": null,
            "top": null,
            "visibility": null,
            "width": null
          }
        },
        "7ca7d1dcf99a4f2182b278df1a40d651": {
          "model_module": "@jupyter-widgets/controls",
          "model_name": "DescriptionStyleModel",
          "model_module_version": "1.5.0",
          "state": {
            "_model_module": "@jupyter-widgets/controls",
            "_model_module_version": "1.5.0",
            "_model_name": "DescriptionStyleModel",
            "_view_count": null,
            "_view_module": "@jupyter-widgets/base",
            "_view_module_version": "1.2.0",
            "_view_name": "StyleView",
            "description_width": ""
          }
        }
      }
    }
  },
  "nbformat": 4,
  "nbformat_minor": 5
}